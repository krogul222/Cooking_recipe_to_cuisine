{
  "nbformat": 4,
  "nbformat_minor": 0,
  "metadata": {
    "colab": {
      "name": "Cooking recipes.ipynb",
      "version": "0.3.2",
      "provenance": [],
      "collapsed_sections": [],
      "include_colab_link": true
    },
    "kernelspec": {
      "name": "python3",
      "display_name": "Python 3"
    },
    "accelerator": "GPU"
  },
  "cells": [
    {
      "cell_type": "markdown",
      "metadata": {
        "id": "view-in-github",
        "colab_type": "text"
      },
      "source": [
        "<a href=\"https://colab.research.google.com/github/krogul222/Cooking_recipe_to_cuisine/blob/master/Cooking_recipes.ipynb\" target=\"_parent\"><img src=\"https://colab.research.google.com/assets/colab-badge.svg\" alt=\"Open In Colab\"/></a>"
      ]
    },
    {
      "cell_type": "code",
      "metadata": {
        "id": "XwTQshZPTDOP",
        "colab_type": "code",
        "colab": {}
      },
      "source": [
        "import seaborn as sns\n",
        "import matplotlib.pyplot as plt"
      ],
      "execution_count": 0,
      "outputs": []
    },
    {
      "cell_type": "code",
      "metadata": {
        "id": "MhQ1joZvWuKA",
        "colab_type": "code",
        "outputId": "6f820db3-676a-4ab4-e3a7-c0edf0fe8d7b",
        "colab": {
          "base_uri": "https://localhost:8080/",
          "height": 219
        }
      },
      "source": [
        "!pip install kaggle"
      ],
      "execution_count": 13,
      "outputs": [
        {
          "output_type": "stream",
          "text": [
            "Requirement already satisfied: kaggle in /usr/local/lib/python3.6/dist-packages (1.5.3)\n",
            "Requirement already satisfied: python-dateutil in /usr/local/lib/python3.6/dist-packages (from kaggle) (2.5.3)\n",
            "Requirement already satisfied: urllib3<1.25,>=1.21.1 in /usr/local/lib/python3.6/dist-packages (from kaggle) (1.24.3)\n",
            "Requirement already satisfied: certifi in /usr/local/lib/python3.6/dist-packages (from kaggle) (2019.3.9)\n",
            "Requirement already satisfied: requests in /usr/local/lib/python3.6/dist-packages (from kaggle) (2.21.0)\n",
            "Requirement already satisfied: python-slugify in /usr/local/lib/python3.6/dist-packages (from kaggle) (3.0.2)\n",
            "Requirement already satisfied: tqdm in /usr/local/lib/python3.6/dist-packages (from kaggle) (4.28.1)\n",
            "Requirement already satisfied: six>=1.10 in /usr/local/lib/python3.6/dist-packages (from kaggle) (1.12.0)\n",
            "Requirement already satisfied: idna<2.9,>=2.5 in /usr/local/lib/python3.6/dist-packages (from requests->kaggle) (2.8)\n",
            "Requirement already satisfied: chardet<3.1.0,>=3.0.2 in /usr/local/lib/python3.6/dist-packages (from requests->kaggle) (3.0.4)\n",
            "Requirement already satisfied: text-unidecode==1.2 in /usr/local/lib/python3.6/dist-packages (from python-slugify->kaggle) (1.2)\n"
          ],
          "name": "stdout"
        }
      ]
    },
    {
      "cell_type": "code",
      "metadata": {
        "id": "MZWP2RNOKbKT",
        "colab_type": "code",
        "colab": {
          "base_uri": "https://localhost:8080/",
          "height": 54
        },
        "outputId": "023a310f-01bf-4448-9a92-2988caca4fac"
      },
      "source": [
        "import os\n",
        "\n",
        "try:\n",
        "  os.mkdir(\"/content/.kaggle/\")\n",
        "except:\n",
        "  print(\"Directory already exists\")\n",
        "  \n",
        "try:\n",
        "  os.mknod(\"/content/.kaggle/kaggle.json\")\n",
        "except:\n",
        "  print(\"File already exists\")\n"
      ],
      "execution_count": 14,
      "outputs": [
        {
          "output_type": "stream",
          "text": [
            "Directory already exists\n",
            "File already exists\n"
          ],
          "name": "stdout"
        }
      ]
    },
    {
      "cell_type": "code",
      "metadata": {
        "id": "esprmU_0XBOP",
        "colab_type": "code",
        "colab": {}
      },
      "source": [
        "import json\n",
        "\n",
        "token = {\"username\":\"x\",\"key\":\"x\"}\n",
        "\n",
        "with open('/content/.kaggle/kaggle.json', 'w') as file:\n",
        "    json.dump(token, file)"
      ],
      "execution_count": 0,
      "outputs": []
    },
    {
      "cell_type": "code",
      "metadata": {
        "id": "pLMBdRwlNa-C",
        "colab_type": "code",
        "colab": {
          "base_uri": "https://localhost:8080/",
          "height": 54
        },
        "outputId": "f1cc5948-03df-443d-d583-04446e824b7b"
      },
      "source": [
        "try:\n",
        "  os.mkdir(\"~/.kaggle/\")\n",
        "except:\n",
        "  print(\"Directory already exists\")\n",
        "\n",
        "try:\n",
        "  os.mknod(\"~/.kaggle/kaggle.json\")\n",
        "except:\n",
        "  print(\"File already exists\")\n"
      ],
      "execution_count": 16,
      "outputs": [
        {
          "output_type": "stream",
          "text": [
            "Directory already exists\n",
            "File already exists\n"
          ],
          "name": "stdout"
        }
      ]
    },
    {
      "cell_type": "code",
      "metadata": {
        "id": "lD1owA_dXK-P",
        "colab_type": "code",
        "colab": {}
      },
      "source": [
        "!cp /content/.kaggle/kaggle.json ~/.kaggle/kaggle.json"
      ],
      "execution_count": 0,
      "outputs": []
    },
    {
      "cell_type": "code",
      "metadata": {
        "id": "1mXxfd2QXO2B",
        "colab_type": "code",
        "outputId": "1931341b-e991-4148-a2a8-bfb301c83950",
        "colab": {
          "base_uri": "https://localhost:8080/",
          "height": 35
        }
      },
      "source": [
        "!kaggle config set -n path -v{/content}"
      ],
      "execution_count": 18,
      "outputs": [
        {
          "output_type": "stream",
          "text": [
            "- path is now set to: {/content}\n"
          ],
          "name": "stdout"
        }
      ]
    },
    {
      "cell_type": "code",
      "metadata": {
        "id": "hUHlvy-6XUGT",
        "colab_type": "code",
        "colab": {}
      },
      "source": [
        "!chmod 600 /root/.kaggle/kaggle.json"
      ],
      "execution_count": 0,
      "outputs": []
    },
    {
      "cell_type": "code",
      "metadata": {
        "id": "Pn5WeQTjXYHB",
        "colab_type": "code",
        "outputId": "24e44dec-e42a-4954-a12b-c0d55f654e51",
        "colab": {
          "base_uri": "https://localhost:8080/",
          "height": 182
        }
      },
      "source": [
        "!kaggle competitions download -c whats-cooking-kernels-only -p /content"
      ],
      "execution_count": 20,
      "outputs": [
        {
          "output_type": "stream",
          "text": [
            "Downloading sample_submission.csv.zip to /content\n",
            "\r  0% 0.00/25.8k [00:00<?, ?B/s]\n",
            "100% 25.8k/25.8k [00:00<00:00, 45.1MB/s]\n",
            "Downloading test.json.zip to /content\n",
            "  0% 0.00/437k [00:00<?, ?B/s]\n",
            "100% 437k/437k [00:00<00:00, 59.9MB/s]\n",
            "Downloading train.json.zip to /content\n",
            "  0% 0.00/1.80M [00:00<?, ?B/s]\n",
            "100% 1.80M/1.80M [00:00<00:00, 121MB/s]\n"
          ],
          "name": "stdout"
        }
      ]
    },
    {
      "cell_type": "code",
      "metadata": {
        "id": "CXtQRl52Xugi",
        "colab_type": "code",
        "outputId": "3c8960f4-c448-4650-d040-527932b89469",
        "colab": {
          "base_uri": "https://localhost:8080/",
          "height": 201
        }
      },
      "source": [
        "!unzip \\*.zip"
      ],
      "execution_count": 21,
      "outputs": [
        {
          "output_type": "stream",
          "text": [
            "Archive:  test.json.zip\n",
            "  inflating: test.json               \n",
            "\n",
            "Archive:  sample_submission.csv.zip\n",
            "  inflating: sample_submission.csv   \n",
            "\n",
            "Archive:  train.json.zip\n",
            "  inflating: train.json              \n",
            "\n",
            "3 archives were successfully processed.\n"
          ],
          "name": "stdout"
        }
      ]
    },
    {
      "cell_type": "code",
      "metadata": {
        "id": "8OC7f5ICaX_B",
        "colab_type": "code",
        "outputId": "00cdcd8b-5853-44e0-8dad-0d919928f921",
        "colab": {
          "base_uri": "https://localhost:8080/",
          "height": 363
        }
      },
      "source": [
        "import pandas as pd\n",
        "\n",
        "train = pd.read_json('train.json')\n",
        "\n",
        "test = pd.read_json('test.json')\n",
        "\n",
        "train.head(10)\n",
        "\n"
      ],
      "execution_count": 22,
      "outputs": [
        {
          "output_type": "execute_result",
          "data": {
            "text/html": [
              "<div>\n",
              "<style scoped>\n",
              "    .dataframe tbody tr th:only-of-type {\n",
              "        vertical-align: middle;\n",
              "    }\n",
              "\n",
              "    .dataframe tbody tr th {\n",
              "        vertical-align: top;\n",
              "    }\n",
              "\n",
              "    .dataframe thead th {\n",
              "        text-align: right;\n",
              "    }\n",
              "</style>\n",
              "<table border=\"1\" class=\"dataframe\">\n",
              "  <thead>\n",
              "    <tr style=\"text-align: right;\">\n",
              "      <th></th>\n",
              "      <th>cuisine</th>\n",
              "      <th>id</th>\n",
              "      <th>ingredients</th>\n",
              "    </tr>\n",
              "  </thead>\n",
              "  <tbody>\n",
              "    <tr>\n",
              "      <th>0</th>\n",
              "      <td>greek</td>\n",
              "      <td>10259</td>\n",
              "      <td>[romaine lettuce, black olives, grape tomatoes...</td>\n",
              "    </tr>\n",
              "    <tr>\n",
              "      <th>1</th>\n",
              "      <td>southern_us</td>\n",
              "      <td>25693</td>\n",
              "      <td>[plain flour, ground pepper, salt, tomatoes, g...</td>\n",
              "    </tr>\n",
              "    <tr>\n",
              "      <th>2</th>\n",
              "      <td>filipino</td>\n",
              "      <td>20130</td>\n",
              "      <td>[eggs, pepper, salt, mayonaise, cooking oil, g...</td>\n",
              "    </tr>\n",
              "    <tr>\n",
              "      <th>3</th>\n",
              "      <td>indian</td>\n",
              "      <td>22213</td>\n",
              "      <td>[water, vegetable oil, wheat, salt]</td>\n",
              "    </tr>\n",
              "    <tr>\n",
              "      <th>4</th>\n",
              "      <td>indian</td>\n",
              "      <td>13162</td>\n",
              "      <td>[black pepper, shallots, cornflour, cayenne pe...</td>\n",
              "    </tr>\n",
              "    <tr>\n",
              "      <th>5</th>\n",
              "      <td>jamaican</td>\n",
              "      <td>6602</td>\n",
              "      <td>[plain flour, sugar, butter, eggs, fresh ginge...</td>\n",
              "    </tr>\n",
              "    <tr>\n",
              "      <th>6</th>\n",
              "      <td>spanish</td>\n",
              "      <td>42779</td>\n",
              "      <td>[olive oil, salt, medium shrimp, pepper, garli...</td>\n",
              "    </tr>\n",
              "    <tr>\n",
              "      <th>7</th>\n",
              "      <td>italian</td>\n",
              "      <td>3735</td>\n",
              "      <td>[sugar, pistachio nuts, white almond bark, flo...</td>\n",
              "    </tr>\n",
              "    <tr>\n",
              "      <th>8</th>\n",
              "      <td>mexican</td>\n",
              "      <td>16903</td>\n",
              "      <td>[olive oil, purple onion, fresh pineapple, por...</td>\n",
              "    </tr>\n",
              "    <tr>\n",
              "      <th>9</th>\n",
              "      <td>italian</td>\n",
              "      <td>12734</td>\n",
              "      <td>[chopped tomatoes, fresh basil, garlic, extra-...</td>\n",
              "    </tr>\n",
              "  </tbody>\n",
              "</table>\n",
              "</div>"
            ],
            "text/plain": [
              "       cuisine     id                                        ingredients\n",
              "0        greek  10259  [romaine lettuce, black olives, grape tomatoes...\n",
              "1  southern_us  25693  [plain flour, ground pepper, salt, tomatoes, g...\n",
              "2     filipino  20130  [eggs, pepper, salt, mayonaise, cooking oil, g...\n",
              "3       indian  22213                [water, vegetable oil, wheat, salt]\n",
              "4       indian  13162  [black pepper, shallots, cornflour, cayenne pe...\n",
              "5     jamaican   6602  [plain flour, sugar, butter, eggs, fresh ginge...\n",
              "6      spanish  42779  [olive oil, salt, medium shrimp, pepper, garli...\n",
              "7      italian   3735  [sugar, pistachio nuts, white almond bark, flo...\n",
              "8      mexican  16903  [olive oil, purple onion, fresh pineapple, por...\n",
              "9      italian  12734  [chopped tomatoes, fresh basil, garlic, extra-..."
            ]
          },
          "metadata": {
            "tags": []
          },
          "execution_count": 22
        }
      ]
    },
    {
      "cell_type": "code",
      "metadata": {
        "id": "R-t0xj2gOn5g",
        "colab_type": "code",
        "colab": {}
      },
      "source": [
        ""
      ],
      "execution_count": 0,
      "outputs": []
    },
    {
      "cell_type": "code",
      "metadata": {
        "id": "0XP87u1BOJlu",
        "colab_type": "code",
        "colab": {
          "base_uri": "https://localhost:8080/",
          "height": 363
        },
        "outputId": "7d4fc7ba-71ee-495c-db45-04ac04ac1bfa"
      },
      "source": [
        "train['numberOfIngredients'] = train['ingredients'].apply(lambda x: len(x))\n",
        "test['numberOfIngredients'] = test['ingredients'].apply(lambda x: len(x))\n",
        "train.head(10)\n",
        "test.head(10)"
      ],
      "execution_count": 23,
      "outputs": [
        {
          "output_type": "execute_result",
          "data": {
            "text/html": [
              "<div>\n",
              "<style scoped>\n",
              "    .dataframe tbody tr th:only-of-type {\n",
              "        vertical-align: middle;\n",
              "    }\n",
              "\n",
              "    .dataframe tbody tr th {\n",
              "        vertical-align: top;\n",
              "    }\n",
              "\n",
              "    .dataframe thead th {\n",
              "        text-align: right;\n",
              "    }\n",
              "</style>\n",
              "<table border=\"1\" class=\"dataframe\">\n",
              "  <thead>\n",
              "    <tr style=\"text-align: right;\">\n",
              "      <th></th>\n",
              "      <th>id</th>\n",
              "      <th>ingredients</th>\n",
              "      <th>numberOfIngredients</th>\n",
              "    </tr>\n",
              "  </thead>\n",
              "  <tbody>\n",
              "    <tr>\n",
              "      <th>0</th>\n",
              "      <td>18009</td>\n",
              "      <td>[baking powder, eggs, all-purpose flour, raisi...</td>\n",
              "      <td>6</td>\n",
              "    </tr>\n",
              "    <tr>\n",
              "      <th>1</th>\n",
              "      <td>28583</td>\n",
              "      <td>[sugar, egg yolks, corn starch, cream of tarta...</td>\n",
              "      <td>11</td>\n",
              "    </tr>\n",
              "    <tr>\n",
              "      <th>2</th>\n",
              "      <td>41580</td>\n",
              "      <td>[sausage links, fennel bulb, fronds, olive oil...</td>\n",
              "      <td>6</td>\n",
              "    </tr>\n",
              "    <tr>\n",
              "      <th>3</th>\n",
              "      <td>29752</td>\n",
              "      <td>[meat cuts, file powder, smoked sausage, okra,...</td>\n",
              "      <td>21</td>\n",
              "    </tr>\n",
              "    <tr>\n",
              "      <th>4</th>\n",
              "      <td>35687</td>\n",
              "      <td>[ground black pepper, salt, sausage casings, l...</td>\n",
              "      <td>8</td>\n",
              "    </tr>\n",
              "    <tr>\n",
              "      <th>5</th>\n",
              "      <td>38527</td>\n",
              "      <td>[baking powder, all-purpose flour, peach slice...</td>\n",
              "      <td>9</td>\n",
              "    </tr>\n",
              "    <tr>\n",
              "      <th>6</th>\n",
              "      <td>19666</td>\n",
              "      <td>[grape juice, orange, white zinfandel]</td>\n",
              "      <td>3</td>\n",
              "    </tr>\n",
              "    <tr>\n",
              "      <th>7</th>\n",
              "      <td>41217</td>\n",
              "      <td>[ground ginger, white pepper, green onions, or...</td>\n",
              "      <td>16</td>\n",
              "    </tr>\n",
              "    <tr>\n",
              "      <th>8</th>\n",
              "      <td>28753</td>\n",
              "      <td>[diced onions, taco seasoning mix, all-purpose...</td>\n",
              "      <td>17</td>\n",
              "    </tr>\n",
              "    <tr>\n",
              "      <th>9</th>\n",
              "      <td>22659</td>\n",
              "      <td>[eggs, cherries, dates, dark muscovado sugar, ...</td>\n",
              "      <td>16</td>\n",
              "    </tr>\n",
              "  </tbody>\n",
              "</table>\n",
              "</div>"
            ],
            "text/plain": [
              "      id  ... numberOfIngredients\n",
              "0  18009  ...                   6\n",
              "1  28583  ...                  11\n",
              "2  41580  ...                   6\n",
              "3  29752  ...                  21\n",
              "4  35687  ...                   8\n",
              "5  38527  ...                   9\n",
              "6  19666  ...                   3\n",
              "7  41217  ...                  16\n",
              "8  28753  ...                  17\n",
              "9  22659  ...                  16\n",
              "\n",
              "[10 rows x 3 columns]"
            ]
          },
          "metadata": {
            "tags": []
          },
          "execution_count": 23
        }
      ]
    },
    {
      "cell_type": "code",
      "metadata": {
        "id": "0uJHaLJxTbXN",
        "colab_type": "code",
        "colab": {
          "base_uri": "https://localhost:8080/",
          "height": 300
        },
        "outputId": "3d149f55-9cb9-44f9-c170-73aca76803c2"
      },
      "source": [
        "train.describe()"
      ],
      "execution_count": 24,
      "outputs": [
        {
          "output_type": "execute_result",
          "data": {
            "text/html": [
              "<div>\n",
              "<style scoped>\n",
              "    .dataframe tbody tr th:only-of-type {\n",
              "        vertical-align: middle;\n",
              "    }\n",
              "\n",
              "    .dataframe tbody tr th {\n",
              "        vertical-align: top;\n",
              "    }\n",
              "\n",
              "    .dataframe thead th {\n",
              "        text-align: right;\n",
              "    }\n",
              "</style>\n",
              "<table border=\"1\" class=\"dataframe\">\n",
              "  <thead>\n",
              "    <tr style=\"text-align: right;\">\n",
              "      <th></th>\n",
              "      <th>id</th>\n",
              "      <th>numberOfIngredients</th>\n",
              "    </tr>\n",
              "  </thead>\n",
              "  <tbody>\n",
              "    <tr>\n",
              "      <th>count</th>\n",
              "      <td>39774.000000</td>\n",
              "      <td>39774.000000</td>\n",
              "    </tr>\n",
              "    <tr>\n",
              "      <th>mean</th>\n",
              "      <td>24849.536959</td>\n",
              "      <td>10.767713</td>\n",
              "    </tr>\n",
              "    <tr>\n",
              "      <th>std</th>\n",
              "      <td>14360.035505</td>\n",
              "      <td>4.428978</td>\n",
              "    </tr>\n",
              "    <tr>\n",
              "      <th>min</th>\n",
              "      <td>0.000000</td>\n",
              "      <td>1.000000</td>\n",
              "    </tr>\n",
              "    <tr>\n",
              "      <th>25%</th>\n",
              "      <td>12398.250000</td>\n",
              "      <td>8.000000</td>\n",
              "    </tr>\n",
              "    <tr>\n",
              "      <th>50%</th>\n",
              "      <td>24887.000000</td>\n",
              "      <td>10.000000</td>\n",
              "    </tr>\n",
              "    <tr>\n",
              "      <th>75%</th>\n",
              "      <td>37328.500000</td>\n",
              "      <td>13.000000</td>\n",
              "    </tr>\n",
              "    <tr>\n",
              "      <th>max</th>\n",
              "      <td>49717.000000</td>\n",
              "      <td>65.000000</td>\n",
              "    </tr>\n",
              "  </tbody>\n",
              "</table>\n",
              "</div>"
            ],
            "text/plain": [
              "                 id  numberOfIngredients\n",
              "count  39774.000000         39774.000000\n",
              "mean   24849.536959            10.767713\n",
              "std    14360.035505             4.428978\n",
              "min        0.000000             1.000000\n",
              "25%    12398.250000             8.000000\n",
              "50%    24887.000000            10.000000\n",
              "75%    37328.500000            13.000000\n",
              "max    49717.000000            65.000000"
            ]
          },
          "metadata": {
            "tags": []
          },
          "execution_count": 24
        }
      ]
    },
    {
      "cell_type": "code",
      "metadata": {
        "id": "L9rkccSpR0IW",
        "colab_type": "code",
        "colab": {
          "base_uri": "https://localhost:8080/",
          "height": 72
        },
        "outputId": "3a11b11e-6319-442e-cbb1-507864fe6cb4"
      },
      "source": [
        "print(train['cuisine'].unique())"
      ],
      "execution_count": 25,
      "outputs": [
        {
          "output_type": "stream",
          "text": [
            "['greek' 'southern_us' 'filipino' 'indian' 'jamaican' 'spanish' 'italian'\n",
            " 'mexican' 'chinese' 'british' 'thai' 'vietnamese' 'cajun_creole'\n",
            " 'brazilian' 'french' 'japanese' 'irish' 'korean' 'moroccan' 'russian']\n"
          ],
          "name": "stdout"
        }
      ]
    },
    {
      "cell_type": "code",
      "metadata": {
        "id": "Jmw4Ht5BSk__",
        "colab_type": "code",
        "colab": {
          "base_uri": "https://localhost:8080/",
          "height": 301
        },
        "outputId": "80388954-5b89-4b86-e97c-401881a9169c"
      },
      "source": [
        "sns.countplot(y=\"cuisine\", data=train, order = train['cuisine'].value_counts().index)"
      ],
      "execution_count": 26,
      "outputs": [
        {
          "output_type": "execute_result",
          "data": {
            "text/plain": [
              "<matplotlib.axes._subplots.AxesSubplot at 0x7f9e765b3470>"
            ]
          },
          "metadata": {
            "tags": []
          },
          "execution_count": 26
        },
        {
          "output_type": "display_data",
          "data": {
            "image/png": "[encoded data removed]",
            "text/plain": [
              "<Figure size 432x288 with 1 Axes>"
            ]
          },
          "metadata": {
            "tags": []
          }
        }
      ]
    },
    {
      "cell_type": "code",
      "metadata": {
        "id": "A6aLLF-aTnI-",
        "colab_type": "code",
        "colab": {
          "base_uri": "https://localhost:8080/",
          "height": 297
        },
        "outputId": "5291558f-3706-4f49-c436-de4dbe4711dc"
      },
      "source": [
        "plt.figure(figsize=(10,4))\n",
        "ax = sns.countplot(x=\"numberOfIngredients\", data=train)\n",
        "#ax.set_xticklabels(ax.get_xticklabels(), rotation=40, ha=\"right\")\n",
        "plt.tight_layout()\n",
        "plt.show()"
      ],
      "execution_count": 27,
      "outputs": [
        {
          "output_type": "display_data",
          "data": {
            "image/png": "[encoded data removed]",
            "text/plain": [
              "<Figure size 720x288 with 1 Axes>"
            ]
          },
          "metadata": {
            "tags": []
          }
        }
      ]
    },
    {
      "cell_type": "code",
      "metadata": {
        "id": "pXgGNq2uieSg",
        "colab_type": "code",
        "colab": {
          "base_uri": "https://localhost:8080/",
          "height": 363
        },
        "outputId": "cbebbf31-01b9-46eb-e65f-3ed892c23552"
      },
      "source": [
        "train[train['numberOfIngredients'] == 1].head(10)"
      ],
      "execution_count": 28,
      "outputs": [
        {
          "output_type": "execute_result",
          "data": {
            "text/html": [
              "<div>\n",
              "<style scoped>\n",
              "    .dataframe tbody tr th:only-of-type {\n",
              "        vertical-align: middle;\n",
              "    }\n",
              "\n",
              "    .dataframe tbody tr th {\n",
              "        vertical-align: top;\n",
              "    }\n",
              "\n",
              "    .dataframe thead th {\n",
              "        text-align: right;\n",
              "    }\n",
              "</style>\n",
              "<table border=\"1\" class=\"dataframe\">\n",
              "  <thead>\n",
              "    <tr style=\"text-align: right;\">\n",
              "      <th></th>\n",
              "      <th>cuisine</th>\n",
              "      <th>id</th>\n",
              "      <th>ingredients</th>\n",
              "      <th>numberOfIngredients</th>\n",
              "    </tr>\n",
              "  </thead>\n",
              "  <tbody>\n",
              "    <tr>\n",
              "      <th>940</th>\n",
              "      <td>japanese</td>\n",
              "      <td>4734</td>\n",
              "      <td>[sushi rice]</td>\n",
              "      <td>1</td>\n",
              "    </tr>\n",
              "    <tr>\n",
              "      <th>2088</th>\n",
              "      <td>vietnamese</td>\n",
              "      <td>7833</td>\n",
              "      <td>[dried rice noodles]</td>\n",
              "      <td>1</td>\n",
              "    </tr>\n",
              "    <tr>\n",
              "      <th>6787</th>\n",
              "      <td>indian</td>\n",
              "      <td>36818</td>\n",
              "      <td>[plain low-fat yogurt]</td>\n",
              "      <td>1</td>\n",
              "    </tr>\n",
              "    <tr>\n",
              "      <th>7011</th>\n",
              "      <td>indian</td>\n",
              "      <td>19772</td>\n",
              "      <td>[unsalted butter]</td>\n",
              "      <td>1</td>\n",
              "    </tr>\n",
              "    <tr>\n",
              "      <th>8181</th>\n",
              "      <td>japanese</td>\n",
              "      <td>16116</td>\n",
              "      <td>[udon]</td>\n",
              "      <td>1</td>\n",
              "    </tr>\n",
              "    <tr>\n",
              "      <th>8852</th>\n",
              "      <td>thai</td>\n",
              "      <td>29738</td>\n",
              "      <td>[sticky rice]</td>\n",
              "      <td>1</td>\n",
              "    </tr>\n",
              "    <tr>\n",
              "      <th>8990</th>\n",
              "      <td>indian</td>\n",
              "      <td>41124</td>\n",
              "      <td>[butter]</td>\n",
              "      <td>1</td>\n",
              "    </tr>\n",
              "    <tr>\n",
              "      <th>10506</th>\n",
              "      <td>mexican</td>\n",
              "      <td>32631</td>\n",
              "      <td>[corn tortillas]</td>\n",
              "      <td>1</td>\n",
              "    </tr>\n",
              "    <tr>\n",
              "      <th>13178</th>\n",
              "      <td>thai</td>\n",
              "      <td>29570</td>\n",
              "      <td>[grained]</td>\n",
              "      <td>1</td>\n",
              "    </tr>\n",
              "    <tr>\n",
              "      <th>17804</th>\n",
              "      <td>southern_us</td>\n",
              "      <td>29849</td>\n",
              "      <td>[lemonade concentrate]</td>\n",
              "      <td>1</td>\n",
              "    </tr>\n",
              "  </tbody>\n",
              "</table>\n",
              "</div>"
            ],
            "text/plain": [
              "           cuisine     id             ingredients  numberOfIngredients\n",
              "940       japanese   4734            [sushi rice]                    1\n",
              "2088    vietnamese   7833    [dried rice noodles]                    1\n",
              "6787        indian  36818  [plain low-fat yogurt]                    1\n",
              "7011        indian  19772       [unsalted butter]                    1\n",
              "8181      japanese  16116                  [udon]                    1\n",
              "8852          thai  29738           [sticky rice]                    1\n",
              "8990        indian  41124                [butter]                    1\n",
              "10506      mexican  32631        [corn tortillas]                    1\n",
              "13178         thai  29570               [grained]                    1\n",
              "17804  southern_us  29849  [lemonade concentrate]                    1"
            ]
          },
          "metadata": {
            "tags": []
          },
          "execution_count": 28
        }
      ]
    },
    {
      "cell_type": "code",
      "metadata": {
        "id": "SlpoyBgGjKGx",
        "colab_type": "code",
        "colab": {
          "base_uri": "https://localhost:8080/",
          "height": 363
        },
        "outputId": "be227ba3-b469-4ab5-d19b-d729bf76a553"
      },
      "source": [
        "train[train['numberOfIngredients'] == 4].head(10)"
      ],
      "execution_count": 29,
      "outputs": [
        {
          "output_type": "execute_result",
          "data": {
            "text/html": [
              "<div>\n",
              "<style scoped>\n",
              "    .dataframe tbody tr th:only-of-type {\n",
              "        vertical-align: middle;\n",
              "    }\n",
              "\n",
              "    .dataframe tbody tr th {\n",
              "        vertical-align: top;\n",
              "    }\n",
              "\n",
              "    .dataframe thead th {\n",
              "        text-align: right;\n",
              "    }\n",
              "</style>\n",
              "<table border=\"1\" class=\"dataframe\">\n",
              "  <thead>\n",
              "    <tr style=\"text-align: right;\">\n",
              "      <th></th>\n",
              "      <th>cuisine</th>\n",
              "      <th>id</th>\n",
              "      <th>ingredients</th>\n",
              "      <th>numberOfIngredients</th>\n",
              "    </tr>\n",
              "  </thead>\n",
              "  <tbody>\n",
              "    <tr>\n",
              "      <th>3</th>\n",
              "      <td>indian</td>\n",
              "      <td>22213</td>\n",
              "      <td>[water, vegetable oil, wheat, salt]</td>\n",
              "      <td>4</td>\n",
              "    </tr>\n",
              "    <tr>\n",
              "      <th>16</th>\n",
              "      <td>british</td>\n",
              "      <td>34466</td>\n",
              "      <td>[greek yogurt, lemon curd, confectioners sugar...</td>\n",
              "      <td>4</td>\n",
              "    </tr>\n",
              "    <tr>\n",
              "      <th>17</th>\n",
              "      <td>italian</td>\n",
              "      <td>1420</td>\n",
              "      <td>[italian seasoning, broiler-fryer chicken, may...</td>\n",
              "      <td>4</td>\n",
              "    </tr>\n",
              "    <tr>\n",
              "      <th>18</th>\n",
              "      <td>thai</td>\n",
              "      <td>2941</td>\n",
              "      <td>[sugar, hot chili, asian fish sauce, lime juice]</td>\n",
              "      <td>4</td>\n",
              "    </tr>\n",
              "    <tr>\n",
              "      <th>29</th>\n",
              "      <td>mexican</td>\n",
              "      <td>1299</td>\n",
              "      <td>[flour tortillas, cheese, breakfast sausages, ...</td>\n",
              "      <td>4</td>\n",
              "    </tr>\n",
              "    <tr>\n",
              "      <th>54</th>\n",
              "      <td>italian</td>\n",
              "      <td>31119</td>\n",
              "      <td>[lemon, pesto, salmon fillets, white wine]</td>\n",
              "      <td>4</td>\n",
              "    </tr>\n",
              "    <tr>\n",
              "      <th>58</th>\n",
              "      <td>italian</td>\n",
              "      <td>2646</td>\n",
              "      <td>[pizza crust, plum tomatoes, pesto, part-skim ...</td>\n",
              "      <td>4</td>\n",
              "    </tr>\n",
              "    <tr>\n",
              "      <th>90</th>\n",
              "      <td>italian</td>\n",
              "      <td>31831</td>\n",
              "      <td>[salt, starchy potatoes, grated nutmeg, flour]</td>\n",
              "      <td>4</td>\n",
              "    </tr>\n",
              "    <tr>\n",
              "      <th>132</th>\n",
              "      <td>mexican</td>\n",
              "      <td>41078</td>\n",
              "      <td>[refried beans, grated jack cheese, hot sauce,...</td>\n",
              "      <td>4</td>\n",
              "    </tr>\n",
              "    <tr>\n",
              "      <th>149</th>\n",
              "      <td>italian</td>\n",
              "      <td>20919</td>\n",
              "      <td>[shredded mozzarella cheese, marinara sauce, f...</td>\n",
              "      <td>4</td>\n",
              "    </tr>\n",
              "  </tbody>\n",
              "</table>\n",
              "</div>"
            ],
            "text/plain": [
              "     cuisine  ...  numberOfIngredients\n",
              "3     indian  ...                    4\n",
              "16   british  ...                    4\n",
              "17   italian  ...                    4\n",
              "18      thai  ...                    4\n",
              "29   mexican  ...                    4\n",
              "54   italian  ...                    4\n",
              "58   italian  ...                    4\n",
              "90   italian  ...                    4\n",
              "132  mexican  ...                    4\n",
              "149  italian  ...                    4\n",
              "\n",
              "[10 rows x 4 columns]"
            ]
          },
          "metadata": {
            "tags": []
          },
          "execution_count": 29
        }
      ]
    }
  ]
}